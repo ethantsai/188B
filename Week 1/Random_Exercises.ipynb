{
 "cells": [
  {
   "cell_type": "code",
   "execution_count": 10,
   "metadata": {
    "collapsed": true
   },
   "outputs": [],
   "source": [
    "#functions for returning true if certain properties\n",
    "\n",
    "#returns true if even\n",
    "def even(n):\n",
    "    if(n%2 == 0):\n",
    "        return True\n",
    "    else:\n",
    "        return False\n",
    "\n",
    "#returns true if odd\n",
    "def odd(n):\n",
    "    if(n%2 != 0):\n",
    "        return True\n",
    "    else:\n",
    "        return False\n",
    "    \n",
    "#returns true if prime\n",
    "def prime(n):\n",
    "    for i in range(2, n):\n",
    "        if n%ni== 0:\n",
    "            return False\n",
    "    return True"
   ]
  },
  {
   "cell_type": "code",
   "execution_count": 31,
   "metadata": {},
   "outputs": [],
   "source": [
    "#generate a vector containing n numbers of the fibonacci sequence\n",
    "def fib(n):\n",
    "    vec = [1,1]\n",
    "    if n == 1:\n",
    "        return vec[:1]\n",
    "    if n == 2:\n",
    "        return vec[:2]\n",
    "    for i in range(2,n):\n",
    "        vec.append(vec[i-1]+vec[i-2])\n",
    "    return vec\n",
    "\n",
    "def lol(n):\n",
    "    vec = [for vec in range(2,n)]"
   ]
  },
  {
   "cell_type": "code",
   "execution_count": 30,
   "metadata": {},
   "outputs": [
    {
     "name": "stdout",
     "output_type": "stream",
     "text": [
      "[1, 1, 2, 3]\n"
     ]
    }
   ],
   "source": [
    ""
   ]
  },
  {
   "cell_type": "code",
   "execution_count": null,
   "metadata": {},
   "outputs": [],
   "source": [
    ""
   ]
  }
 ],
 "metadata": {
  "kernelspec": {
   "display_name": "Python 2",
   "language": "python",
   "name": "python2"
  },
  "language_info": {
   "codemirror_mode": {
    "name": "ipython",
    "version": 2.0
   },
   "file_extension": ".py",
   "mimetype": "text/x-python",
   "name": "python",
   "nbconvert_exporter": "python",
   "pygments_lexer": "ipython2",
   "version": "2.7.6"
  }
 },
 "nbformat": 4,
 "nbformat_minor": 0
}