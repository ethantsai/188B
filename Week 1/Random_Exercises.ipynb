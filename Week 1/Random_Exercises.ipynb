{
 "cells": [
  {
   "cell_type": "code",
   "execution_count": 1,
   "metadata": {
    "collapsed": true
   },
   "outputs": [
    {
     "name": "stdout",
     "output_type": "stream",
     "text": [
      "(True, False, True, False, True, False)\n"
     ]
    }
   ],
   "source": [
    "#functions for returning true if certain properties\n",
    "\n",
    "#returns true if even\n",
    "def even(n):\n",
    "    if(n%2 == 0):\n",
    "        return True\n",
    "    else:\n",
    "        return False\n",
    "\n",
    "#returns true if odd\n",
    "def odd(n):\n",
    "    if(n%2 != 0):\n",
    "        return True\n",
    "    else:\n",
    "        return False\n",
    "    \n",
    "#returns true if prime\n",
    "def prime(n):\n",
    "    for i in range(2, n):\n",
    "        if n%i== 0:\n",
    "            return False\n",
    "    return True\n",
    "\n",
    "print(even(4),even(3),odd(49), odd(54), prime(43), prime(42))"
   ]
  },
  {
   "cell_type": "code",
   "execution_count": 4,
   "metadata": {},
   "outputs": [
    {
     "name": "stdout",
     "output_type": "stream",
     "text": [
      "[1, 1, 2, 3, 5, 8, 13, 21, 34, 55]\n[1, 4, 9, 16, 25, 36, 49, 64, 81, 100]\n"
     ]
    }
   ],
   "source": [
    "#generate a vector containing n numbers of the fibonacci sequence\n",
    "def fib(n):\n",
    "    vec = [1,1]\n",
    "    if n == 1:\n",
    "        return vec[:1]\n",
    "    if n == 2:\n",
    "        return vec[:2]\n",
    "    for i in range(2,n):\n",
    "        vec.append(vec[i-1]+vec[i-2])\n",
    "    return vec\n",
    "\n",
    "#generate a vector containing the first n squares\n",
    "def squares(n):\n",
    "    return [x**2 for x in range(1,n+1)]\n",
    "\n",
    "print(fib(10))\n",
    "print(squares(10))"
   ]
  },
  {
   "cell_type": "code",
   "execution_count": 13,
   "metadata": {},
   "outputs": [
    {
     "name": "stdout",
     "output_type": "stream",
     "text": [
      "10\n10\n"
     ]
    }
   ],
   "source": [
    "# Dot together two vectors with loops\n",
    "def dot(A, B):\n",
    "    dot = 0\n",
    "    if (len(A) != len(B)):\n",
    "        print(\"I don't like you. Please pick better lists with same lengths.\")\n",
    "        return\n",
    "    n = len(A)\n",
    "    for i in range(n):\n",
    "        dot += A[i]*B[i]\n",
    "    return dot\n",
    "\n",
    "# Dot together two vectors with numpy\n",
    "import numpy as np\n",
    "def npdot(A, B):\n",
    "    return np.dot(A,B)\n",
    "\n",
    "#check to see they both the same\n",
    "A = [1, 2, 3]\n",
    "B = [3, 2, 1]\n",
    "\n",
    "print(dot(A,B))\n",
    "print(npdot(A,B))"
   ]
  },
  {
   "cell_type": "code",
   "execution_count": 17,
   "metadata": {},
   "outputs": [
    {
     "name": "stdout",
     "output_type": "stream",
     "text": [
      "[[ 2  4  6  8 10]\n [ 1  2  3  4  5]\n [ 3  6  9 12 15]]\n[[ 2  4  6  8 10]\n [ 1  2  3  4  5]\n [ 3  6  9 12 15]]\n"
     ]
    }
   ],
   "source": [
    "#multiply two vectors as matrices using brute force\n",
    "def mult(A, B):\n",
    "    rowsA = len(A)\n",
    "    colsA = len(A[0])\n",
    "    rowsB = len(B)\n",
    "    colsB = len(B[0])\n",
    "    \n",
    "    if (colsA != rowsB):\n",
    "        print(\"I don't like you. Please pick better matrices.\")\n",
    "        return\n",
    "\n",
    "    prod = [[0 for row in range(colsB)] for col in range(rowsA)]\n",
    "\n",
    "    for i in range(rowsA):\n",
    "        for j in range(colsB):\n",
    "            for k in range(colsA):\n",
    "                prod[i][j] += A[i][k] * B[k][j]\n",
    "    return prod\n",
    "\n",
    "#matrix mult using numpy\n",
    "import numpy as np\n",
    "\n",
    "def npmult(A,B):\n",
    "    return np.matrix(A)*np.matrix(B)\n",
    "\n",
    "#check to see they both the same\n",
    "A = [[2,0,0],[1,0,0],[3,0,0]]\n",
    "B = [[ 1, 2, 3, 4, 5 ], [ 6, 7, 8, 9 , 8 ], [ 7, 6, 5, 4, 3 ]]\n",
    "\n",
    "print(np.matrix(mult(A,B)))\n",
    "print(npmult(A,B))"
   ]
  },
  {
   "cell_type": "code",
   "execution_count": 60,
   "metadata": {},
   "outputs": [
    {
     "name": "stdout",
     "output_type": "stream",
     "text": [
      "[0.545, 1.677, 2.427]\n[1.732, 54.7, 45.0]\n[3.0, 36.0, 72.0]\n"
     ]
    }
   ],
   "source": [
    "#convert spherical to cartesian\n",
    "from math import sin,cos,pi,sqrt,acos,atan\n",
    "\n",
    "#input vec in r, theta, phi in degrees \n",
    "def spherical2cartesian(vec):\n",
    "    r = vec[0]\n",
    "    theta = vec[1]*pi/180\n",
    "    phi = vec[2]*pi/180\n",
    "    return [round(r*sin(theta)*cos(phi),3), round(r*sin(theta)*sin(phi),3), round(r*cos(theta),3)]\n",
    "\n",
    "#input vec in x, y, z\n",
    "def cartesian2spherical(vec):\n",
    "    x = vec[0]\n",
    "    y = vec[1]\n",
    "    z = vec[2]    \n",
    "    r = sqrt(x**2 + y**2 + z**2)\n",
    "    return [round(r,3), round(acos(z/r)*180/pi,1), round(atan(y/x)*180/pi,1)]\n",
    "\n",
    "#test results\n",
    "print(spherical2cartesian([3,36,72]))\n",
    "print(cartesian2spherical([1,1,1]))\n",
    "print(cartesian2spherical(spherical2cartesian([3,36,72])))"
   ]
  },
  {
   "cell_type": "code",
   "execution_count": null,
   "metadata": {},
   "outputs": [],
   "source": [
    "from visual import sphere\n",
    "L = 5\n",
    "R = 0.3\n",
    "for i in range(-L,L+1):\n",
    "    for j in range(-L,L+1):\n",
    "        for k in range(-L,L+1):\n",
    "            sphere(pos=[i,j,k],radius=R)"
   ]
  },
  {
   "cell_type": "code",
   "execution_count": null,
   "outputs": [],
   "source": [
    ""
   ]
  }
 ],
 "metadata": {
  "kernelspec": {
   "display_name": "Python 2",
   "language": "python",
   "name": "python2"
  },
  "language_info": {
   "codemirror_mode": {
    "name": "ipython",
    "version": 2.0
   },
   "file_extension": ".py",
   "mimetype": "text/x-python",
   "name": "python",
   "nbconvert_exporter": "python",
   "pygments_lexer": "ipython2",
   "version": "2.7.6"
  }
 },
 "nbformat": 4,
 "nbformat_minor": 0
}