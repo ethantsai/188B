{
 "cells": [
  {
   "cell_type": "code",
   "execution_count": 1,
   "metadata": {
    "collapsed": true
   },
   "outputs": [
    {
     "name": "stdout",
     "output_type": "stream",
     "text": [
      "(True, False, True, False, True, False)\n"
     ]
    }
   ],
   "source": [
    "#functions for returning true if certain properties\n",
    "\n",
    "#returns true if even\n",
    "def even(n):\n",
    "    if(n%2 == 0):\n",
    "        return True\n",
    "    else:\n",
    "        return False\n",
    "\n",
    "#returns true if odd\n",
    "def odd(n):\n",
    "    if(n%2 != 0):\n",
    "        return True\n",
    "    else:\n",
    "        return False\n",
    "    \n",
    "#returns true if prime\n",
    "def prime(n):\n",
    "    for i in range(2, n):\n",
    "        if n%i== 0:\n",
    "            return False\n",
    "    return True\n",
    "\n",
    "print(even(4),even(3),odd(49), odd(54), prime(43), prime(42))"
   ]
  },
  {
   "cell_type": "code",
   "execution_count": 4,
   "metadata": {},
   "outputs": [
    {
     "name": "stdout",
     "output_type": "stream",
     "text": [
      "[1, 1, 2, 3, 5, 8, 13, 21, 34, 55]\n[1, 4, 9, 16, 25, 36, 49, 64, 81, 100]\n"
     ]
    }
   ],
   "source": [
    "#generate a vector containing n numbers of the fibonacci sequence\n",
    "def fib(n):\n",
    "    vec = [1,1]\n",
    "    if n == 1:\n",
    "        return vec[:1]\n",
    "    if n == 2:\n",
    "        return vec[:2]\n",
    "    for i in range(2,n):\n",
    "        vec.append(vec[i-1]+vec[i-2])\n",
    "    return vec\n",
    "\n",
    "#generate a vector containing the first n squares\n",
    "def squares(n):\n",
    "    return [x**2 for x in range(1,n+1)]\n",
    "\n",
    "print(fib(10))\n",
    "print(squares(10))"
   ]
  },
  {
   "cell_type": "code",
   "execution_count": 13,
   "metadata": {},
   "outputs": [
    {
     "name": "stdout",
     "output_type": "stream",
     "text": [
      "10\n10\n"
     ]
    }
   ],
   "source": [
    "# Dot together two vectors with loops\n",
    "def dot(A, B):\n",
    "    dot = 0\n",
    "    if (len(A) != len(B)):\n",
    "        print(\"I don't like you. Please pick better lists with same lengths.\")\n",
    "        return\n",
    "    n = len(A)\n",
    "    for i in range(n):\n",
    "        dot += A[i]*B[i]\n",
    "    return dot\n",
    "\n",
    "# Dot together two vectors with numpy\n",
    "import numpy as np\n",
    "def npdot(A, B):\n",
    "    return np.dot(A,B)\n",
    "\n",
    "#check to see they both the same\n",
    "A = [1, 2, 3]\n",
    "B = [3, 2, 1]\n",
    "\n",
    "print(dot(A,B))\n",
    "print(npdot(A,B))"
   ]
  },
  {
   "cell_type": "code",
   "execution_count": 17,
   "metadata": {},
   "outputs": [
    {
     "name": "stdout",
     "output_type": "stream",
     "text": [
      "[[ 2  4  6  8 10]\n [ 1  2  3  4  5]\n [ 3  6  9 12 15]]\n[[ 2  4  6  8 10]\n [ 1  2  3  4  5]\n [ 3  6  9 12 15]]\n"
     ]
    }
   ],
   "source": [
    "#multiply two vectors as matrices using brute force\n",
    "def mult(A, B):\n",
    "    rowsA = len(A)\n",
    "    colsA = len(A[0])\n",
    "    rowsB = len(B)\n",
    "    colsB = len(B[0])\n",
    "    \n",
    "    if (colsA != rowsB):\n",
    "        print(\"I don't like you. Please pick better matrices.\")\n",
    "        return\n",
    "\n",
    "    prod = [[0 for row in range(colsB)] for col in range(rowsA)]\n",
    "\n",
    "    for i in range(rowsA):\n",
    "        for j in range(colsB):\n",
    "            for k in range(colsA):\n",
    "                prod[i][j] += A[i][k] * B[k][j]\n",
    "    return prod\n",
    "\n",
    "#matrix mult using numpy\n",
    "import numpy as np\n",
    "\n",
    "def npmult(A,B):\n",
    "    return np.matrix(A)*np.matrix(B)\n",
    "\n",
    "#check to see they both the same\n",
    "A = [[2,0,0],[1,0,0],[3,0,0]]\n",
    "B = [[ 1, 2, 3, 4, 5 ], [ 6, 7, 8, 9 , 8 ], [ 7, 6, 5, 4, 3 ]]\n",
    "\n",
    "print(np.matrix(mult(A,B)))\n",
    "print(npmult(A,B))"
   ]
  },
  {
   "cell_type": "code",
   "execution_count": 60,
   "metadata": {},
   "outputs": [
    {
     "name": "stdout",
     "output_type": "stream",
     "text": [
      "[0.545, 1.677, 2.427]\n[1.732, 54.7, 45.0]\n[3.0, 36.0, 72.0]\n"
     ]
    }
   ],
   "source": [
    "#convert spherical to cartesian\n",
    "from math import sin,cos,pi,sqrt,acos,atan\n",
    "\n",
    "#input vec in r, theta, phi in degrees \n",
    "def spherical2cartesian(vec):\n",
    "    r = vec[0]\n",
    "    theta = vec[1]*pi/180\n",
    "    phi = vec[2]*pi/180\n",
    "    return [round(r*sin(theta)*cos(phi),3), round(r*sin(theta)*sin(phi),3), round(r*cos(theta),3)]\n",
    "\n",
    "#input vec in x, y, z\n",
    "def cartesian2spherical(vec):\n",
    "    x = vec[0]\n",
    "    y = vec[1]\n",
    "    z = vec[2]    \n",
    "    r = sqrt(x**2 + y**2 + z**2)\n",
    "    return [round(r,3), round(acos(z/r)*180/pi,1), round(atan(y/x)*180/pi,1)]\n",
    "\n",
    "#test results\n",
    "print(spherical2cartesian([3,36,72]))\n",
    "print(cartesian2spherical([1,1,1]))\n",
    "print(cartesian2spherical(spherical2cartesian([3,36,72])))"
   ]
  },
  {
   "cell_type": "code",
   "execution_count": null,
   "metadata": {},
   "outputs": [],
   "source": [
    "# What is the smallest positive number that is evenly divisible by all of the numbers from 1 to 20?\n",
    "# First implementation is original and a lot slower. Second one is faster."
   ]
  },
  {
   "cell_type": "code",
   "execution_count": 55,
   "metadata": {},
   "outputs": [
    {
     "name": "stdout",
     "output_type": "stream",
     "text": [
      "The slowest run took 12.18 times longer than the fastest. This could mean that an intermediate result is being cached.\n10000 loops, best of 3: 69.5 µs per loop\n"
     ]
    },
    {
     "name": "stdout",
     "output_type": "stream",
     "text": [
      "10000 loops, best of 3: 19.7 µs per loop\n3099044504245996706400\n3099044504245996706400\n"
     ]
    }
   ],
   "source": [
    "from math import log\n",
    "\n",
    "# function that checks if x is prime\n",
    "def prime(x):\n",
    "    for n in range(2, x):\n",
    "        if x%n == 0:\n",
    "            return False\n",
    "    return True\n",
    "\n",
    "# Initial attempt (a bit of smart brute forcing) \n",
    "def challenge_solution(n):\n",
    "    #sort out nonfactors and primes\n",
    "    nonfactors = []\n",
    "    primes = []\n",
    "    for i in range(2,n):\n",
    "        if (n%i != 0):\n",
    "            nonfactors.append(i)\n",
    "        if prime(i):\n",
    "            primes.append(i)\n",
    "\n",
    "    #since 'nonfactors' is the list we check if it's a factor,\n",
    "    #we must account for 'n' as well as nonfactors, so we append this to the end       \n",
    "    nonfactors.append(n)\n",
    "\n",
    "    #minimum incrementing factor is the product of all primes\n",
    "    minimum = 2\n",
    "    for i in range(1,len(primes)):\n",
    "        minimum*=primes[i]\n",
    "\n",
    "    #time to do the bruteforcing! now with a massive incrementing value though!\n",
    "    bool = True\n",
    "    x = minimum\n",
    "    while bool:\n",
    "        x+=minimum\n",
    "        for i in range(len(nonfactors)):\n",
    "            if (x%nonfactors[i] != 0):\n",
    "                break\n",
    "            if (i == len(nonfactors)-1 and bool):\n",
    "                bool = False\n",
    "    return x\n",
    "\n",
    "# Main function for the method that calculates LCM based on the orders of primes\n",
    "def challenge_solution_fast(n):\n",
    "    x = 2**int(log(n,2))\n",
    "    for i in range(3,n,2):\n",
    "        if prime(i):\n",
    "            x *= i**int(log(n,i))\n",
    "    return x\n",
    "\n",
    "\n",
    "# Main function for the method that calculates LCM based on the orders of primes\n",
    "# Using prime sieve courtesy of Robert William Hanks (RWH1)\n",
    "# http://stackoverflow.com/questions/2068372/fastest-way-to-list-all-primes-below-n-in-python/3035188#3035188\n",
    "def challenge_solution_RWH(n):\n",
    "    sieve = [True] * ((n+1)/2)\n",
    "    for i in range(3,int((n+1)**0.5)+1,2):\n",
    "        if sieve[i/2]:\n",
    "            sieve[i*i/2::i] = [False] * ((n-i*i-1)/(2*i)+1)\n",
    "    x = 2**int(log((n+1),2))\n",
    "    for i in range(1,n/2):\n",
    "        if sieve[i]:\n",
    "            x *= (2*i+1)**int(log((n+1),2*i+1))\n",
    "    return x\n",
    "\n",
    "\n",
    "n = 50\n",
    "# %timeit challenge_solution(n)\n",
    "%timeit challenge_solution_fast(n)\n",
    "%timeit challenge_solution_RWH(n)\n",
    "print(challenge_solution_fast(n))\n",
    "print(challenge_solution_RWH(n))"
   ]
  },
  {
   "cell_type": "code",
   "execution_count": 56,
   "metadata": {},
   "outputs": [
    {
     "name": "stdout",
     "output_type": "stream",
     "text": [
      "1000 loops, best of 3: 276 µs per loop\n"
     ]
    },
    {
     "name": "stdout",
     "output_type": "stream",
     "text": [
      "The slowest run took 5.51 times longer than the fastest. This could mean that an intermediate result is being cached.\n1000 loops, best of 3: 346 µs per loop\n[[ 0.          0.01        0.02        0.03        0.04        0.05        0.06\n   0.07        0.08        0.09        0.1         0.11        0.12        0.13\n   0.14        0.15        0.16        0.17        0.18        0.19        0.2\n   0.21        0.22        0.23        0.24        0.25        0.26        0.27\n   0.28        0.29        0.3         0.31        0.32        0.33        0.34\n   0.35        0.36        0.37        0.38        0.39        0.4         0.41\n   0.42        0.43        0.44        0.45        0.46        0.47        0.48\n   0.49        0.5         0.51        0.52        0.53        0.54        0.55\n   0.56        0.57        0.58        0.59        0.6         0.61        0.62\n   0.63        0.64        0.65        0.66        0.67        0.68        0.69\n   0.7         0.71        0.72        0.73        0.74        0.75        0.76\n   0.77        0.78        0.79        0.8         0.81        0.82        0.83\n   0.84        0.85        0.86        0.87        0.88        0.89        0.9\n   0.91        0.92        0.93        0.94        0.95        0.96        0.97\n   0.98        0.99        1.        ]\n [ 1.          0.97        0.9409      0.912673    0.88529281  0.85873403\n   0.832972    0.80798284  0.78374336  0.76023106  0.73742413  0.7153014\n   0.69384236  0.67302709  0.65283628  0.63325119  0.61425365  0.59582604\n   0.57795126  0.56061272  0.54379434  0.52748051  0.5116561   0.49630641\n   0.48141722  0.46697471  0.45296546  0.4393765   0.42619521  0.41340935\n   0.40100707  0.38897686  0.37730755  0.36598832  0.35500867  0.34435841\n   0.33402766  0.32400683  0.31428663  0.30485803  0.29571229  0.28684092\n   0.27823569  0.26988862  0.26179196  0.2539382   0.24632006  0.23893046\n   0.23176254  0.22480967  0.21806538  0.21152341  0.20517771  0.19902238\n   0.19305171  0.18726016  0.18164235  0.17619308  0.17090729  0.16578007\n   0.16080667  0.15598247  0.15130299  0.14676391  0.14236099  0.13809016\n   0.13394745  0.12992903  0.12603116  0.12225022  0.11858272  0.11502524\n   0.11157448  0.10822724  0.10498043  0.10183101  0.09877608  0.0958128\n   0.09293842  0.09015026  0.08744576  0.08482238  0.08227771  0.07980938\n   0.0774151   0.07509265  0.07283987  0.07065467  0.06853503  0.06647898\n   0.06448461  0.06255007  0.06067357  0.05885336  0.05708776  0.05537513\n   0.05371388  0.05210246  0.05053939  0.0490232   0.04755251]]\n"
     ]
    }
   ],
   "source": [
    "# Euler's method in two ways: with numpy and without\n",
    "\n",
    "import numpy as np\n",
    "\n",
    "# define the initial conditions here\n",
    "t0 = 0\n",
    "x0 = 1\n",
    "h = .01\n",
    "N = 100\n",
    "def v(x,t):\n",
    "    return -3*x\n",
    "\n",
    "# do the euler's without numpy\n",
    "def euler_python(t0,x0, v, h, N):\n",
    "    solution_python = [[t0],[x0]]\n",
    "    for i in range(1,N+1):\n",
    "        prevT = solution_python[0][i-1]\n",
    "        prevX = solution_python[1][i-1]\n",
    "        solution_python[0].append(round(prevT+h,5))\n",
    "        solution_python[1].append(round(prevX+h*v(prevX,prevT),5))\n",
    "    return solution_python\n",
    "\n",
    "# do the euler's with numpy\n",
    "def euler_numpy(t0,x0, v, h, N):\n",
    "    times = np.arange(t0,t0+h*N+h, h)\n",
    "    position = np.zeros(len(times))\n",
    "    position[0] = x0\n",
    "    for i in range(1,len(times)):\n",
    "        position[i] = position[i-1] + v(position[i-1],times[i-1])*h\n",
    "    solution_numpy = np.array([times,position])\n",
    "    return solution_numpy\n",
    "\n",
    "%timeit euler_python(t0,x0,v,h,N)\n",
    "%timeit euler_numpy(t0,x0,v,h,N)\n",
    "\n",
    "#print numerical solution\n",
    "solution = euler_numpy(t0,x0,v,h,N)\n",
    "print(solution)\n",
    "\n",
    "#import matplotlib to plot numerical and exact solution\n",
    "import matplotlib.pyplot as plt\n",
    "\n",
    "#plot numerical solution\n",
    "plt.plot(solution[0],solution[1],color='r')\n",
    "#plot exact solution for v = -3x\n",
    "x = np.linspace(t0,N*h,100)\n",
    "y = np.exp(-3*x)\n",
    "plt.plot(x,y,color='g')\n",
    "\n",
    "plt.show()"
   ]
  },
  {
   "cell_type": "code",
   "execution_count": null,
   "metadata": {},
   "outputs": [],
   "source": [
    ""
   ]
  }
 ],
 "metadata": {
  "kernelspec": {
   "display_name": "Python 2",
   "language": "python",
   "name": "python2"
  },
  "language_info": {
   "codemirror_mode": {
    "name": "ipython",
    "version": 2.0
   },
   "file_extension": ".py",
   "mimetype": "text/x-python",
   "name": "python",
   "nbconvert_exporter": "python",
   "pygments_lexer": "ipython2",
   "version": "2.7.6"
  }
 },
 "nbformat": 4,
 "nbformat_minor": 0
}