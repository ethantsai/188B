{
 "cells": [
  {
   "cell_type": "code",
   "execution_count": 1,
   "metadata": {
    "collapsed": true
   },
   "outputs": [],
   "source": [
    "#checks if x is prime\n",
    "def prime(x):\n",
    "    for n in range(2, x):\n",
    "        if x%n == 0:\n",
    "            return False\n",
    "    return True\n",
    "\n",
    "#main function\n",
    "def LCM(n):\n",
    "    #sort out nonfactors and primes\n",
    "    nonfactors = []\n",
    "    primes = []\n",
    "    for i in range(2,n):\n",
    "        if (n%i != 0):\n",
    "            nonfactors.append(i)\n",
    "        if prime(i):\n",
    "            primes.append(i)\n",
    "\n",
    "    #since 'nonfactors' is the list we check if it's a factor,\n",
    "    #we must account for 'n' as well as nonfactors, so we append this to the end       \n",
    "    nonfactors.append(n)\n",
    "\n",
    "    #minimum incrementing factor is the product of all primes\n",
    "    minimum = 2\n",
    "    for i in range(1,len(primes)):\n",
    "        minimum*=primes[i]\n",
    "\n",
    "    #time to do the bruteforcing! now with a massive incrementing value though!\n",
    "    bool = True\n",
    "    x = minimum\n",
    "    while bool:\n",
    "        x+=minimum\n",
    "        for i in range(len(nonfactors)):\n",
    "            if (x%nonfactors[i] != 0):\n",
    "                break\n",
    "            if (i == len(nonfactors)-1 and bool):\n",
    "                bool = False\n",
    "    return x"
   ]
  },
  {
   "cell_type": "code",
   "execution_count": 3,
   "metadata": {},
   "outputs": [
    {
     "name": "stdout",
     "output_type": "stream",
     "text": [
      "10000 loops, best of 3: 26.3 µs per loop\n"
     ]
    },
    {
     "data": {
      "text/plain": [
       "2520"
      ]
     },
     "execution_count": 3,
     "metadata": {},
     "output_type": "execute_result"
    }
   ],
   "source": [
    "x=10\n",
    "%timeit LCM(x)\n",
    "LCM(x)"
   ]
  },
  {
   "cell_type": "code",
   "execution_count": null,
   "metadata": {},
   "outputs": [],
   "source": [
    "print(56)"
   ]
  },
  {
   "cell_type": "code",
   "execution_count": null,
   "outputs": [],
   "source": [
    ""
   ]
  }
 ],
 "metadata": {
  "kernelspec": {
   "display_name": "Python 2",
   "language": "python",
   "name": "python2"
  },
  "language_info": {
   "codemirror_mode": {
    "name": "ipython",
    "version": 2.0
   },
   "file_extension": ".py",
   "mimetype": "text/x-python",
   "name": "python",
   "nbconvert_exporter": "python",
   "pygments_lexer": "ipython2",
   "version": "2.7.6"
  }
 },
 "nbformat": 4,
 "nbformat_minor": 0
}