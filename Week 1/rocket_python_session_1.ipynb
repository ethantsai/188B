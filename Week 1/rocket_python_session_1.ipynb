{
 "cells": [
  {
   "cell_type": "markdown",
   "metadata": {},
   "source": [
    "# Rocket Python\n",
    "\n",
    "A very fast, interactive Python tutorial for scientific computing."
   ]
  },
  {
   "cell_type": "markdown",
   "metadata": {},
   "source": [
    "# SESSION 1 - The very basics"
   ]
  },
  {
   "cell_type": "markdown",
   "metadata": {},
   "source": [
    "# Useful Resources"
   ]
  },
  {
   "cell_type": "markdown",
   "metadata": {},
   "source": [
    "- Getting started guide for Python in scientific computing: http://sjbyrnes.com/python/\n",
    "- Concise and useful lecture notes for scientific Python from people who brought us scipy (http://www.scipy.org/) (the most widely-used and robust scientific Python package): http://www.scipy-lectures.org/\n",
    "- A popular first course in Python that can be done entirely online for free: http://learnpythonthehardway.org/\n",
    "- The \"Learn Python\" smartphone app.  I've tried it on android, and it's actually quite good for learning the basics in an efficient way.\n",
    "- The MIT EdX course on python (I took this course myself a while ago when I was first learning python -- quite good): https://www.edx.org/course/introduction-computer-science-mitx-6-00-1x-6"
   ]
  },
  {
   "cell_type": "markdown",
   "metadata": {},
   "source": [
    "# The jupyter notebook"
   ]
  },
  {
   "cell_type": "markdown",
   "metadata": {},
   "source": [
    "## What is a jupyter notebook?\n",
    "\n",
    "The jupyter (formerly IPython) notebook allows one to interact with Python (or another rather newn programming language called Julia) in a way that facilitates rapid experiementation with code.  In particular, it allows one to quickly run code snippets independently from one another.  If you've every used a Mathematica notebook, then jupyter notebook functionality will feel quite natural and familiar.\n",
    "\n",
    "Jupyter notebooks are organized by **cells**.  Each cell can either contain code that one wants to run, or text one might want to use to say offer an explanation of the code.  Each cell starts as a coding cell by default.  To change the character of a cell one can enter **command mode** by pressing the [Esc] key.  Once you've pressed [Esc] to enter command mode, you can change the character of the cell by pressing another key right afterward.  For example, if you want to write text or mathematics as an explanation, then you can press the [m] key after having entered command mode.  This will change the cell to a **markdown** cell.  Markdown is a language for writing text. If you want to see an example of markdown syntax, double click on this cell which is itself a markdown cell, and you'll be able to see that, for example, headings are written by putting `#` characters before them, and boldfaced text is obtained with double asterisks.\n",
    "\n",
    "In command mode, one can actually do lots of other things using keyboard shortcuts as well.  To see a list of them, go to Help > Keyboard Shortcuts in the notebook menu at the top of the page.  You can also take a guided tour of the jupyter notebook interface by going to Help > User Interface Tour."
   ]
  },
  {
   "cell_type": "markdown",
   "metadata": {},
   "source": [
    "### Exercise  \n",
    "\n",
    "Find the keyboard shortcut that allows you to create a new cell below a given cell.  Create that new cell below this one, and change it to a \"markdown\" cell.  Type your name and press shift > enter.  What happened when you did this?"
   ]
  },
  {
   "cell_type": "markdown",
   "metadata": {},
   "source": [
    "Ethan Tsai"
   ]
  },
  {
   "cell_type": "markdown",
   "metadata": {},
   "source": [
    "## Getting help the fast way with jupyter\n",
    "\n",
    "Juyter notebooks are particularly powerful for getting help or viewing documentation in a very fast, efficient way.  For example, let's say that someone has told you there is a python command (technically a function -- we'll get to functions later) called `print` that allows one to print the output of a certain line of code, but you have no experience with print and want to find out exactly how to use it.  You can do this by typing the command \"print\" directly followed by a questions mark with no spaces:\n",
    "\n",
    "```\n",
    "print?\n",
    "```"
   ]
  },
  {
   "cell_type": "markdown",
   "metadata": {},
   "source": [
    "### Exercise \n",
    "\n",
    "Create a new cell below this one, type \"print?\" into the cell, press and hold [Shift], and before letting go press [Enter].  The [Shift]>[Enter] sequence tells the notebook to run the contents of the current cell.  The Python \"interpreter\" then reads the contents of the cell and runs whatever is inside as a Python program. "
   ]
  },
  {
   "cell_type": "code",
   "execution_count": 2,
   "metadata": {
    "collapsed": true
   },
   "outputs": [],
   "source": [
    "print?"
   ]
  },
  {
   "cell_type": "markdown",
   "metadata": {},
   "source": [
    "### Exercise follow-up\n",
    "\n",
    "You should see in the output that \"print\" is a builtin function.  This means that it's a part of the standard Python syntax.  No special packages need to be imported to use this function.  We'll be using print quite a bit while coding, especially for debugging code."
   ]
  },
  {
   "cell_type": "markdown",
   "metadata": {},
   "source": [
    "## Tab completion\n",
    "\n",
    "Suppose that you are in the midst of writing some code, and despite your best efforts, you just can't seem to remember the full name of a command you wanted to use.  Have no fear, tab completion is here!  \n",
    "\n",
    "Tab completion does exactly what its name suggests -- if you're in the middle of writing something, pressing the [Tab] key tells the notebook to try to complete it for you.  If jupyter recognizes the thing you're trying to type (it can even be something you're defined yourself earlier in your code!), then it will complete it for you or else give you a list of possible ways to complete it if there is more than one command that starts in that way.  \n",
    "\n",
    "For example, we have already seen that \"print\" is a command built into the standard python distribution, so tab completion should work on print, right?  Well see for yourself:"
   ]
  },
  {
   "cell_type": "markdown",
   "metadata": {},
   "source": [
    "## The \"print\" function\n",
    "\n",
    "You'll probably find that the `print` function is the most often-used built-in Python command.  It allows one to print out anything that one specifies as its argument.  Do the following classic computer science exercise to see how it works!"
   ]
  },
  {
   "cell_type": "markdown",
   "metadata": {},
   "source": [
    "### Exercise \n",
    "\n",
    "\n",
    "Write `print(\"Hello World!\")` into a new cell below, and press [Shift]+[Enter] to evaluate the cell.  You should an output cell that reads `Hello World!`  Congratulations!  You have entered the world of Python programming!"
   ]
  },
  {
   "cell_type": "code",
   "execution_count": 3,
   "metadata": {
    "collapsed": false
   },
   "outputs": [
    {
     "name": "stdout",
     "output_type": "stream",
     "text": [
      "Hello World!\n"
     ]
    }
   ],
   "source": [
    "print(\"Hello World!\")"
   ]
  },
  {
   "cell_type": "markdown",
   "metadata": {},
   "source": [
    "One can print more than one thing in succession by providing the print function with more than one argument"
   ]
  },
  {
   "cell_type": "code",
   "execution_count": 4,
   "metadata": {
    "collapsed": false
   },
   "outputs": [
    {
     "name": "stdout",
     "output_type": "stream",
     "text": [
      "Hello World! Hello World AGAIN!\n"
     ]
    }
   ],
   "source": [
    "print(\"Hello World!\", \"Hello World AGAIN!\")"
   ]
  },
  {
   "cell_type": "markdown",
   "metadata": {},
   "source": [
    "## Comments\n",
    "\n",
    "As we'll emphasize again later, it's very useful to learn how to write \"comments\" in your code so that you or anyone else who reads your code after it's been written can understand what you did.  In Python, comments are written following a \"pound\" sign `#`"
   ]
  },
  {
   "cell_type": "code",
   "execution_count": 5,
   "metadata": {
    "collapsed": false
   },
   "outputs": [
    {
     "name": "stdout",
     "output_type": "stream",
     "text": [
      "My name is Jenny\n"
     ]
    }
   ],
   "source": [
    "print(\"My name is Jenny\") #This is a comment.  Jenny has just identified herself."
   ]
  },
  {
   "cell_type": "markdown",
   "metadata": {},
   "source": [
    "Any text following the `#` sign on a given line is treated as a comment and is not considered as part of the code by the python interpreter -- it has no effect on how the program runs.  In some instances, you might want to write a long comment that spans many lines.  For better or for worse, isn't built-in way to write multi-line comments in Python.  A multi-line comment can be achieved by writing a new `#` symbol on each line where the long comment is desired."
   ]
  },
  {
   "cell_type": "markdown",
   "metadata": {},
   "source": [
    "## The \"type\" function\n",
    "\n",
    "The built-in function `type` allows the user to check the sort of object he/she is dealing with.  For example, one can check that `print` is a built-in function."
   ]
  },
  {
   "cell_type": "code",
   "execution_count": 6,
   "metadata": {
    "collapsed": false
   },
   "outputs": [
    {
     "name": "stdout",
     "output_type": "stream",
     "text": [
      "<class 'builtin_function_or_method'>\n"
     ]
    }
   ],
   "source": [
    "print(type(print))"
   ]
  },
  {
   "cell_type": "markdown",
   "metadata": {},
   "source": [
    "You might be wondering what a \"class\" or \"method\" is since it appears in the above output.  The term \"class\" is an object-oriented programming (OOP) term that we won't need in this course, and the term \"method\" refers to a special kind of Python function and will be introduced later when we discuss functions in more detail."
   ]
  },
  {
   "cell_type": "markdown",
   "metadata": {},
   "source": [
    "# Basic data types\n",
    "\n",
    "There are a number of basic data types in python.  We will focus on strings and numerical data types.  A **string** is a sequence of characters in quotation marks.  We've already encountered strings when we wrote the Hello World program above.  Here is another example:"
   ]
  },
  {
   "cell_type": "code",
   "execution_count": 7,
   "metadata": {
    "collapsed": false
   },
   "outputs": [
    {
     "name": "stdout",
     "output_type": "stream",
     "text": [
      "This is a string\n",
      "<class 'str'>\n"
     ]
    }
   ],
   "source": [
    "print(\"This is a string\")\n",
    "print(type(\"This is a string\"))"
   ]
  },
  {
   "cell_type": "markdown",
   "metadata": {},
   "source": [
    "We can see that the `str` is the precise designation used by Python for any object that is a string.  For the sort of computational physics we'll be learning, advanced string manipulation won't be necessary, but knowing how to use strings can be still useful if, for example, you ever want to create a program that prints out instructions to the user in English."
   ]
  },
  {
   "cell_type": "markdown",
   "metadata": {
    "collapsed": true
   },
   "source": [
    "## Numbers (scalar data types)\n",
    "\n",
    "Perhaps the most basic thing you might want to use Python for as is a calculator.  Of course, in most programming applications one wants to go significantly beyond this basic functionality.  After all, if one simply wants a calculator, there are much simpler and easier to use ways of accessing one.  However, even in more advanced programs one needs to know how to manipulate numbers.  In this section, we introduce basic types of numbers available in python and basic operations one can perform on them.\n",
    "\n",
    "We will deal with four main numerical types in python\n",
    "\n",
    "- **integers**: designated in Python as the type `int`\n",
    "    - used to reprsent integers\n",
    "- **floating point numbers** aka **floats**: designated in Python as the type `float`\n",
    "    - used to represent any real number to finite precision\n",
    "- **complex numbers**: designated in Python as the type `complex`\n",
    "    - used to represent complex numbers\n",
    "- **booleans**: designated in Python as `bool` \n",
    "    - used to represent the logical values `True` and `False`\n",
    "\n",
    "To write an integer in python, you simply type out that number (in base 10 like you're used to).  To write a float, you need to append a decimal point `.` to the end of the number so that the interpreter recognizes that you intend to type a float.  To specify a complex number, you need to specify its real and imaginary part.  "
   ]
  },
  {
   "cell_type": "code",
   "execution_count": 8,
   "metadata": {
    "collapsed": false
   },
   "outputs": [
    {
     "name": "stdout",
     "output_type": "stream",
     "text": [
      "<class 'int'>\n",
      "<class 'float'>\n",
      "<class 'float'>\n",
      "<class 'complex'>\n"
     ]
    }
   ],
   "source": [
    "print(type(3))\n",
    "print(type(3.))\n",
    "print(type(3.0))\n",
    "print(type(3 + 0j))"
   ]
  },
  {
   "cell_type": "markdown",
   "metadata": {},
   "source": [
    "The boolean data type can be thought of as a number taking on two possible values: `True` and `False`"
   ]
  },
  {
   "cell_type": "code",
   "execution_count": 9,
   "metadata": {
    "collapsed": false
   },
   "outputs": [
    {
     "name": "stdout",
     "output_type": "stream",
     "text": [
      "<class 'bool'>\n",
      "<class 'bool'>\n"
     ]
    }
   ],
   "source": [
    "print(type(True))\n",
    "print(type(False))"
   ]
  },
  {
   "cell_type": "markdown",
   "metadata": {},
   "source": [
    "The boolean data type will be useful later when we use logic (like \"if, then\") statements to control the flow of a program.  In other words, booleans are useful for controlling the logic of a program."
   ]
  },
  {
   "cell_type": "markdown",
   "metadata": {},
   "source": [
    "## Arithmetical operations\n",
    "\n",
    "Any two integers, real numbers, or complex numbers can be added, subtracted, or multiplied.  In python, these operations are accomplished via the operators `+`, `-`, and `*`.  Division is tricker because\n",
    "\n",
    "- when one integer is divided by another, one doesn't necessarily get an integer\n",
    "\n",
    "and \n",
    "\n",
    "- it's not possible to divide by zero.  \n",
    "\n",
    "We'll discuss division in a moment, but focus on addition, subtraction, or multiplication.  When any two integers are added, subtracted, or multiplied, we know from math that one gets another integer, and python respects this mathematical fact:"
   ]
  },
  {
   "cell_type": "code",
   "execution_count": 10,
   "metadata": {
    "collapsed": false
   },
   "outputs": [
    {
     "name": "stdout",
     "output_type": "stream",
     "text": [
      "17\n",
      "-13\n",
      "30\n",
      "<class 'int'>\n",
      "<class 'int'>\n",
      "<class 'int'>\n"
     ]
    }
   ],
   "source": [
    "print(2 + 15)\n",
    "print(2 - 15)\n",
    "print(2 * 15)\n",
    "print(type(2 + 15))\n",
    "print(type(2 - 15))\n",
    "print(type(2 * 15))"
   ]
  },
  {
   "cell_type": "markdown",
   "metadata": {},
   "source": [
    "Let's see what happens when we add two floats:"
   ]
  },
  {
   "cell_type": "code",
   "execution_count": 11,
   "metadata": {
    "collapsed": false
   },
   "outputs": [
    {
     "name": "stdout",
     "output_type": "stream",
     "text": [
      "17.0\n",
      "-13.0\n",
      "30.0\n",
      "<class 'float'>\n",
      "<class 'float'>\n",
      "<class 'float'>\n"
     ]
    }
   ],
   "source": [
    "print(2. + 15.)\n",
    "print(2. - 15.)\n",
    "print(2. * 15.)\n",
    "print(type(2. + 15.))\n",
    "print(type(2. - 15.))\n",
    "print(type(2. * 15.))"
   ]
  },
  {
   "cell_type": "markdown",
   "metadata": {},
   "source": [
    "Well that's not unexpected: one receives two floats.  Here's a trickier one.  Let's see what happens when we add a `float` and an `int` instead:"
   ]
  },
  {
   "cell_type": "code",
   "execution_count": 12,
   "metadata": {
    "collapsed": false
   },
   "outputs": [
    {
     "name": "stdout",
     "output_type": "stream",
     "text": [
      "17.0\n",
      "-13.0\n",
      "30.0\n",
      "<class 'float'>\n",
      "<class 'float'>\n",
      "<class 'float'>\n"
     ]
    }
   ],
   "source": [
    "print(2. + 15)\n",
    "print(2. - 15)\n",
    "print(2. * 15)\n",
    "print(type(2. + 15))\n",
    "print(type(2. - 15))\n",
    "print(type(2. * 15))"
   ]
  },
  {
   "cell_type": "markdown",
   "metadata": {},
   "source": [
    "Well that's interesting.  When one adds an int to a float, one gets a float, and similarly for subtraction and multiplication.  In other words, the float takes precendence over the int in this arithmetical operations.\n",
    "\n",
    "Ok so now let's look at division.  Division of two integers or floats can be accomplished via the `/` operator.  If we divide one integer by another integer by which it's divisible, then we know that mathematically, we get another integer.  Does python respect this fact? No it does not."
   ]
  },
  {
   "cell_type": "code",
   "execution_count": 13,
   "metadata": {
    "collapsed": false
   },
   "outputs": [
    {
     "name": "stdout",
     "output_type": "stream",
     "text": [
      "3.0\n",
      "<class 'float'>\n"
     ]
    }
   ],
   "source": [
    "print(15 / 5)\n",
    "print(type(15 / 5))"
   ]
  },
  {
   "cell_type": "markdown",
   "metadata": {},
   "source": [
    "Well actually no, it does not!  Even if the result is an integer, the operator `/` yields a float.  If you want to perform true integer division, then there is a separate operator called `//` in python:"
   ]
  },
  {
   "cell_type": "code",
   "execution_count": 14,
   "metadata": {
    "collapsed": false
   },
   "outputs": [
    {
     "name": "stdout",
     "output_type": "stream",
     "text": [
      "3\n",
      "<class 'int'>\n"
     ]
    }
   ],
   "source": [
    "print(15 // 5)\n",
    "print(type(15 // 5))"
   ]
  },
  {
   "cell_type": "markdown",
   "metadata": {},
   "source": [
    "### Exercise \n",
    "\n",
    "We've already seen that the division operator `/` yields a float, even if one divides an integer by another integer by which it's divisible, but that the integer division operator `//` will yield an integer in that scenario.  What do you think will happen if you apply `//` when dividing a float by another?  Try it out in a new cell below and then describe what you think happened in a new markdown cell."
   ]
  },
  {
   "cell_type": "markdown",
   "metadata": {},
   "source": [
    "We also mentioned before that division is trickier than the other arithmetical operations because one cannot divide by zero.  The python interpreter knows this and will yell at you when you try to divide by zero"
   ]
  },
  {
   "cell_type": "code",
   "execution_count": 7,
   "metadata": {
    "collapsed": false
   },
   "outputs": [
    {
     "ename": "ZeroDivisionError",
     "evalue": "division by zero",
     "traceback": [
      "\u001b[1;31m---------------------------------------------------------------------------\u001b[0m",
      "\u001b[1;31mZeroDivisionError\u001b[0m                         Traceback (most recent call last)",
      "\u001b[1;32m<ipython-input-7-8b27f81e665d>\u001b[0m in \u001b[0;36m<module>\u001b[1;34m()\u001b[0m\n\u001b[1;32m----> 1\u001b[1;33m \u001b[0mprint\u001b[0m\u001b[1;33m(\u001b[0m\u001b[1;36m1301\u001b[0m \u001b[1;33m/\u001b[0m \u001b[1;36m0\u001b[0m\u001b[1;33m)\u001b[0m\u001b[1;33m\u001b[0m\u001b[0m\n\u001b[0m",
      "\u001b[1;31mZeroDivisionError\u001b[0m: division by zero"
     ],
     "output_type": "error"
    }
   ],
   "source": [
    "print(1301 / 0)"
   ]
  },
  {
   "cell_type": "markdown",
   "metadata": {},
   "source": [
    "Similarly for integer division:"
   ]
  },
  {
   "cell_type": "code",
   "execution_count": null,
   "metadata": {
    "collapsed": false
   },
   "outputs": [],
   "source": [
    "print(1301 // 0)"
   ]
  },
  {
   "cell_type": "markdown",
   "metadata": {},
   "source": [
    "You might not expect this, but you can also apply arithmetic operations to booleans.  Let's play around with this a bit and see what happens:"
   ]
  },
  {
   "cell_type": "code",
   "execution_count": 2,
   "metadata": {
    "collapsed": false
   },
   "outputs": [
    {
     "name": "stdout",
     "output_type": "stream",
     "text": [
      "2\n",
      "1\n",
      "1\n",
      "0\n"
     ]
    }
   ],
   "source": [
    "print(True + True)\n",
    "print(True + False)\n",
    "print(False + True)\n",
    "print(False + False)"
   ]
  },
  {
   "cell_type": "markdown",
   "metadata": {},
   "source": [
    "### Exercise\n",
    "\n",
    "Can you explain what happened in the above for computations with booleans?  Based on these results, what would you predict would happen if you were to apply the other arithmetical operations to all four pairings of booleans.  Check your predictions by trying them out in a new cell below, and make sure you understand the results."
   ]
  },
  {
   "cell_type": "markdown",
   "metadata": {},
   "source": [
    "True -> 1, False -> 0, so anything multiplied by False gives zero, anything divided by false gives divide by zero error, and the rest give 1."
   ]
  },
  {
   "cell_type": "code",
   "execution_count": 6,
   "metadata": {
    "collapsed": false
   },
   "outputs": [
    {
     "name": "stdout",
     "output_type": "stream",
     "text": [
      "1\n",
      "0\n",
      "0\n",
      "0\n",
      "1.0\n",
      "0.0\n"
     ]
    },
    {
     "ename": "ZeroDivisionError",
     "evalue": "division by zero",
     "traceback": [
      "\u001b[1;31m---------------------------------------------------------------------------\u001b[0m",
      "\u001b[1;31mZeroDivisionError\u001b[0m                         Traceback (most recent call last)",
      "\u001b[1;32m<ipython-input-6-0fdd2e2decab>\u001b[0m in \u001b[0;36m<module>\u001b[1;34m()\u001b[0m\n\u001b[0;32m      5\u001b[0m \u001b[0mprint\u001b[0m\u001b[1;33m(\u001b[0m\u001b[1;32mTrue\u001b[0m \u001b[1;33m/\u001b[0m \u001b[1;32mTrue\u001b[0m\u001b[1;33m)\u001b[0m\u001b[1;33m\u001b[0m\u001b[0m\n\u001b[0;32m      6\u001b[0m \u001b[0mprint\u001b[0m\u001b[1;33m(\u001b[0m\u001b[1;32mFalse\u001b[0m \u001b[1;33m/\u001b[0m \u001b[1;32mTrue\u001b[0m\u001b[1;33m)\u001b[0m\u001b[1;33m\u001b[0m\u001b[0m\n\u001b[1;32m----> 7\u001b[1;33m \u001b[0mprint\u001b[0m\u001b[1;33m(\u001b[0m\u001b[1;32mTrue\u001b[0m \u001b[1;33m/\u001b[0m \u001b[1;32mFalse\u001b[0m\u001b[1;33m)\u001b[0m\u001b[1;33m\u001b[0m\u001b[0m\n\u001b[0m\u001b[0;32m      8\u001b[0m \u001b[0mprint\u001b[0m\u001b[1;33m(\u001b[0m\u001b[1;32mFalse\u001b[0m \u001b[1;33m/\u001b[0m \u001b[1;32mFalse\u001b[0m\u001b[1;33m)\u001b[0m\u001b[1;33m\u001b[0m\u001b[0m\n",
      "\u001b[1;31mZeroDivisionError\u001b[0m: division by zero"
     ],
     "output_type": "error"
    }
   ],
   "source": [
    "print(True * True)\n",
    "print(True * False)\n",
    "print(False * True)\n",
    "print(False * False)\n",
    "print(True / True)\n",
    "print(False / True)\n",
    "print(True / False)\n",
    "print(False / False)"
   ]
  },
  {
   "cell_type": "markdown",
   "metadata": {},
   "source": [
    "### Exercise\n",
    "\n",
    "Explore what happens when you apply the four arithmetical operations to a complex number paired with either an `int` or a `float`."
   ]
  },
  {
   "cell_type": "code",
   "execution_count": 14,
   "metadata": {
    "collapsed": false
   },
   "outputs": [
    {
     "name": "stdout",
     "output_type": "stream",
     "text": [
      "<class 'complex'>\n",
      "<class 'complex'>\n",
      "<class 'complex'>\n",
      "<class 'complex'>\n"
     ]
    }
   ],
   "source": [
    "print(type(5.1*(3 + 5j)))\n",
    "print(type(5*(3 + 5j)))\n",
    "print(type(0*(3 + 5j)))\n",
    "print(type(5.1/(3 + 5j)))"
   ]
  },
  {
   "cell_type": "markdown",
   "metadata": {},
   "source": [
    "Anything with complex stays complex"
   ]
  },
  {
   "cell_type": "markdown",
   "metadata": {},
   "source": [
    "### Exercise\n",
    "\n",
    "Predict the results of the following computations (including the data type of the output), then try them in your notebook and print out the results in a cell below.  Do the results agree with your predictions?  If not, make sure you understand why you were in error.\n",
    "\n",
    "- `2 + 3 / 3`\n",
    "- `2 * 6. / 3.`\n",
    "- `2 * 6. // 3.`\n",
    "- `5 - 7. // 3`\n",
    "- `5. ** 3`\n",
    "- `5. ** 3. // 25`\n",
    "- `72 / 6 ** 2`"
   ]
  },
  {
   "cell_type": "markdown",
   "metadata": {},
   "source": [
    "Prediction:\n",
    "3.\n",
    "4.\n",
    "4.\n",
    "2. (oops)\n",
    "125.\n",
    "5.\n",
    "2."
   ]
  },
  {
   "cell_type": "code",
   "execution_count": 17,
   "metadata": {
    "collapsed": false
   },
   "outputs": [
    {
     "name": "stdout",
     "output_type": "stream",
     "text": [
      "3.0\n",
      "4.0\n",
      "4.0\n",
      "3.0\n",
      "125.0\n",
      "5.0\n",
      "2.0\n"
     ]
    }
   ],
   "source": [
    "print(2 + 3 / 3)\n",
    "print(2 * 6. / 3.)\n",
    "print(2 * 6. // 3.)\n",
    "print(5 - 7. // 3)\n",
    "print(5. ** 3)\n",
    "print(5. ** 3. // 25)\n",
    "print(72 / 6 ** 2)"
   ]
  },
  {
   "cell_type": "markdown",
   "metadata": {},
   "source": [
    "## Other operations"
   ]
  },
  {
   "cell_type": "markdown",
   "metadata": {},
   "source": [
    "Besides other operations, there are others one can perform on the numerical data types discussed above.  One of the most often used and useful of these is taking a number to a **power**, which in Python is denoted with a double asterisk `**`:"
   ]
  },
  {
   "cell_type": "code",
   "execution_count": null,
   "metadata": {
    "collapsed": false
   },
   "outputs": [],
   "source": [
    "print(2 ** 4)\n",
    "print(2. ** 4)\n",
    "print((2 + 1j) ** 2)"
   ]
  },
  {
   "cell_type": "markdown",
   "metadata": {},
   "source": [
    "Perhaps even more useful are comparison operators like equalities and inequalities:\n",
    "\n",
    "- equality: `==`\n",
    "- less than: `<`\n",
    "- greater than: `>`\n",
    "- les than or equal to: `<=`\n",
    "- greater than or equal to: `>=`\n",
    "- not equal to: `!=`\n",
    "\n",
    "Each of these operators takes as inputs two numbers and outputs a boolean.  For example"
   ]
  },
  {
   "cell_type": "code",
   "execution_count": null,
   "metadata": {
    "collapsed": false
   },
   "outputs": [],
   "source": [
    "print(1 == 1)\n",
    "print(1. == 1)\n",
    "print(1 + 0j == 1)\n",
    "print(1 > 2)\n",
    "print(1 >= 2)"
   ]
  },
  {
   "cell_type": "markdown",
   "metadata": {},
   "source": [
    "As we will see later, these comparison operators will be especially useful as a means of controlling the logical flow of a program."
   ]
  },
  {
   "cell_type": "markdown",
   "metadata": {},
   "source": [
    "Finally, we mention the **modulo** operator denoted `%`.  You might be able to guess what this operator does from its name, but let's just play around with it a bit and see what happens:"
   ]
  },
  {
   "cell_type": "code",
   "execution_count": null,
   "metadata": {
    "collapsed": false
   },
   "outputs": [],
   "source": [
    "print(4 % 2)\n",
    "print(2 % 4)\n",
    "print(15 % 3)\n",
    "print(3 % 15)\n",
    "print(169 % 13)\n",
    "print(13 % 169)"
   ]
  },
  {
   "cell_type": "markdown",
   "metadata": {},
   "source": [
    "### Exercise \n",
    "\n",
    "Look up the modulo operator for Python on Google and read about precisely what it does.  How could you use the modulo operator to check if a number is even?  Explain in a new markdown cell below, then in a new code cell below that, try out your method on a few numbers, and make sure it works."
   ]
  },
  {
   "cell_type": "markdown",
   "metadata": {},
   "source": [
    "Find modulo 2; if it equals zero, then it's even. If not, then it's odd."
   ]
  },
  {
   "cell_type": "code",
   "execution_count": 26,
   "metadata": {
    "collapsed": false
   },
   "outputs": [
    {
     "name": "stdout",
     "output_type": "stream",
     "text": [
      "It's even!\n"
     ]
    }
   ],
   "source": [
    "x = 142  #input number to test\n",
    "\n",
    "if (x % 2):\n",
    "    print(\"It's odd!\")\n",
    "else:\n",
    "    print(\"It's even!\")"
   ]
  },
  {
   "cell_type": "markdown",
   "metadata": {},
   "source": [
    "# Variables\n",
    "\n",
    "If we want to use a programming language as more than a calculator, then we need to have the ability to assing a symbol to a value (either a number, or perhaps a value that is some other sort of object) so that we can use it repeatedly.  A symbol can be assigned a value by using a *single* equals sign `=` like so"
   ]
  },
  {
   "cell_type": "code",
   "execution_count": null,
   "metadata": {
    "collapsed": false
   },
   "outputs": [],
   "source": [
    "x = 10\n",
    "print(x)"
   ]
  },
  {
   "cell_type": "markdown",
   "metadata": {},
   "source": [
    "Notice that this is completely different than what the double equals sign ``==`` does.  That operator compares two objects and outputs a boolean value depending on whether or not the objects are the same.  The single equals sign tells the python iterpreter to associate a desired value with a specified symbol.  One cannot use any sequence of symbols one desires as a variable, there are rules:\n",
    "\n",
    "- Variable names must start with either an underscore or a letter (either lowercase or upper case)\n",
    "- After the first symbol in a variable name, the name should conist of letters, numbers, and underscores\n",
    "- Variable names are case sensitive: the variable names `variable` and `VARIABLE` are not the same"
   ]
  },
  {
   "cell_type": "code",
   "execution_count": null,
   "metadata": {
    "collapsed": false
   },
   "outputs": [],
   "source": [
    "this_is_a_variable = 13\n",
    "this_is_a_variable_2 = 7\n",
    "print(this_is_a_variable * this_is_a_variable_2)"
   ]
  },
  {
   "cell_type": "code",
   "execution_count": null,
   "metadata": {
    "collapsed": false
   },
   "outputs": [],
   "source": [
    "variable = 10\n",
    "VARIABLE = 13\n",
    "print(variable == VARIABLE)"
   ]
  },
  {
   "cell_type": "markdown",
   "metadata": {},
   "source": [
    "After a variable has been assigned a certain value, that value can be overwritten, and it can be assigned a new value."
   ]
  },
  {
   "cell_type": "code",
   "execution_count": null,
   "metadata": {
    "collapsed": false
   },
   "outputs": [],
   "source": [
    "x = 10\n",
    "print(x)\n",
    "x = 11\n",
    "print(x)"
   ]
  },
  {
   "cell_type": "markdown",
   "metadata": {},
   "source": [
    "A variable name can even be used to reassign that same variables name."
   ]
  },
  {
   "cell_type": "code",
   "execution_count": null,
   "metadata": {
    "collapsed": false
   },
   "outputs": [],
   "source": [
    "x = 10\n",
    "print(x)\n",
    "x = x + 3\n",
    "print(x)\n",
    "x = x - 3\n",
    "print(x)\n",
    "x = x ** 2\n",
    "print(x)"
   ]
  },
  {
   "cell_type": "markdown",
   "metadata": {},
   "source": [
    "Some of these sorts of variable reassignments can be performed in an abbreviated manner"
   ]
  },
  {
   "cell_type": "code",
   "execution_count": null,
   "metadata": {
    "collapsed": false
   },
   "outputs": [],
   "source": [
    "x = 10\n",
    "print(x)\n",
    "x += 3\n",
    "print(x)\n",
    "x -= 3\n",
    "print(x)"
   ]
  },
  {
   "cell_type": "markdown",
   "metadata": {},
   "source": [
    "## Interesting, and tricky aspects of variable assignment\n",
    "\n",
    "There are some aspects of variable assignment that you might not expect.  In this section we look \"under the hood\" a bit to understand some of the more subtle aspects of variable assignment that can be quite confusing during the course of writing and testing a program.\n",
    "\n",
    "Firstly, as we've already seen, a variable can be reassigned a different value during the course of a program, but what's more interestingly, variables can also be assigned to a different *type* of object during the course of a program.  For example"
   ]
  },
  {
   "cell_type": "code",
   "execution_count": null,
   "metadata": {
    "collapsed": false
   },
   "outputs": [],
   "source": [
    "x = 10\n",
    "print(x, type(x))\n",
    "x = 13 + 0j\n",
    "print(x, type(x))\n",
    "x = \"Goodbye Sweet World!\"\n",
    "print(x, type(x))"
   ]
  },
  {
   "cell_type": "markdown",
   "metadata": {},
   "source": [
    "In the course of the above program, the variable `x` went from being the integer `10` to being the complex number `13 + 0j` to being the string `\"Goodbye Sweet World!\".\n",
    "\n",
    "Secondly, we illustrate a tricky aspect the variable assignment with the following exercise"
   ]
  },
  {
   "cell_type": "markdown",
   "metadata": {},
   "source": [
    "### Exercise  \n",
    "\n",
    "Consider the following code:\n",
    "\n",
    "```\n",
    "  x = 13\n",
    "  y = x\n",
    "  x = 7\n",
    "```\n",
    "\n",
    "What would you expect the output to be if we were to now print `x` and `y`?  Try it out in a new cell below and see what happens.  Did the result agree with your expectation?  If not, try to come up with an explanation for what happened."
   ]
  },
  {
   "cell_type": "markdown",
   "metadata": {},
   "source": [
    "Expect x=7,y=13"
   ]
  },
  {
   "cell_type": "code",
   "execution_count": 29,
   "metadata": {
    "collapsed": false
   },
   "outputs": [
    {
     "name": "stdout",
     "output_type": "stream",
     "text": [
      "7 13\n"
     ]
    }
   ],
   "source": [
    "x = 13\n",
    "y = x\n",
    "x = 7\n",
    "print(x,y)"
   ]
  },
  {
   "cell_type": "markdown",
   "metadata": {},
   "source": [
    "### Exercise follow-up  \n",
    "\n",
    "The last exercise introduces the following important aspect of variable assignment.  When a variable is assigned a value, you're telling the interpreter to associate the symbol with the specified value that's stored somewhere in memory.  For example, in the case in the exercise above, the variable `x` was first assigned the integer value `13`, so that integer is stored in memory somewhere, and the interpreter points the variable `x` to that location in memory.  In fact, you can even find the memory address where that variable value is being stored with the built-in Python function `id()`.  For example, when I execute the code \n",
    "\n",
    "```\n",
    "    x = 13\n",
    "    print(id(x))\n",
    "```\n",
    "\n",
    "then the output is the following number\n",
    "\n",
    "```\n",
    "    139819098501312\n",
    "```\n",
    "\n",
    "So when we executed the assignment statement `x = 13`, we can think of what happened schematically like this:\n",
    "\n",
    "```\n",
    "    x -> 139819098501312 (the location in memory where 3 was stored)\n",
    "```\n",
    "\n",
    "In the next line, `y = x`, we are telling the interpreter to assign `y` to the same value as `x`.  Well actually, we are telling the interpreter to point the variable `y` to precisely the same memory location as where `x` is.  So the total result of these two lines can be represented as\n",
    "\n",
    "```\n",
    "    x -> 139819098501312\n",
    "    y -> 139819098501312\n",
    "```\n",
    "\n",
    "Both variables point to the same location in memory.  Try this out for yourself by executing the following code:\n",
    "\n",
    "```\n",
    "    x = 13\n",
    "    y = x\n",
    "    print(id(X), id(y))\n",
    "\n",
    "```\n",
    "\n",
    "or better yet\n",
    "\n",
    "```\n",
    "    x = 13\n",
    "    y = x\n",
    "    print(id(x) == id(y))\n",
    "```\n",
    "\n",
    "and you should obtain the boolean `True`.  In the third line of the original code in the exercise, we then reassigned the value of `x` to be the integer `17`.  So now, `x` will point to a different location in memory, but the memory location of `y` will not have changed!  You might have thought that since `y = x` is essentially telling the interpreter to point `y` to the same location as `x`, that if the location of `x` changes, then the interpreter will \"remember\" to change the memory location of `y` accordinglingy, but that is not what happens.  The `y = x` statement tells the interpreter only to assign `y` to the *current* memory location of `x`, and if the memory location of `x` changes later, this does not affect the value of `y`.  To see this in action, try the code in the exercise followed by a print statement to identify the memory locations of both `x` and `y`:\n",
    "\n",
    "```\n",
    "    x = 13\n",
    "    y = x\n",
    "    x = 17\n",
    "    print(id(x))\n",
    "    print(id(y))\n",
    "```\n",
    "\n",
    "The output should be two different (but probably somewhat similar) integers."
   ]
  },
  {
   "cell_type": "code",
   "execution_count": 34,
   "metadata": {
    "collapsed": false
   },
   "outputs": [
    {
     "name": "stdout",
     "output_type": "stream",
     "text": [
      "10437600\n",
      "10437600\n",
      "10437728\n",
      "10437600\n"
     ]
    }
   ],
   "source": [
    "x = 13\n",
    "y = x\n",
    "\n",
    "print(id(x))\n",
    "print(id(y))\n",
    "\n",
    "x = 17\n",
    "\n",
    "print(id(x))\n",
    "print(id(y))"
   ]
  },
  {
   "cell_type": "code",
   "execution_count": 35,
   "metadata": {
    "collapsed": false
   },
   "outputs": [
    {
     "name": "stdout",
     "output_type": "stream",
     "text": [
      "10437728\n",
      "10437600\n"
     ]
    }
   ],
   "source": [
    "x = 13\n",
    "y = x\n",
    "x = 17\n",
    "print(id(x))\n",
    "print(id(y))"
   ]
  },
  {
   "cell_type": "markdown",
   "metadata": {},
   "source": [
    "# Control flow\n",
    "\n",
    "During the course of the program, it's common to want the Python interpreter to choose what to do next based on whether certain conditions are met.  A **control flow** statement is a statement whose execution results in a choice being made as to which of two or more paths should be followed.\n",
    "\n",
    "## Control flow using the `if`, `else`, and `elif` commands\n",
    "\n",
    "One can control how a program proceeds by using logical statements.  For example, if you want to tell the interpreter to print the value of `y` provided the value of another variable `x` is negative, you can use an `if` statement in your code:\n",
    "\n",
    "```\n",
    "    If x < 0:\n",
    "        print(y)\n",
    "```\n",
    "\n",
    "Let's see how this works with an example in which `x` is assigned a negative value so that we expect the program to print the value of `y`:"
   ]
  },
  {
   "cell_type": "code",
   "execution_count": null,
   "metadata": {
    "collapsed": false
   },
   "outputs": [],
   "source": [
    "x = -3\n",
    "y = 2\n",
    "\n",
    "if x < 0:\n",
    "    print(y)"
   ]
  },
  {
   "cell_type": "markdown",
   "metadata": {},
   "source": [
    "The print statement was executed because `x` was previously assigned a negative value, so the statement `x < 0` evaluated to the boolean value `True`.  The general structure of using `if` is therefore like:\n",
    "\n",
    "```\n",
    "if <statement>:\n",
    "    code to be executed if <statement> evaluates to the boolean value True.\n",
    "```\n",
    "\n",
    "To illustrate the fact that the if statement executes the next code block based on whether or not the statement that follows it evaluates to True or False, we can simply manually write True or False after the if statement.  In the case that we write `True`, we would expect that the indented code block afterward will be executed, and in the case that we write `False`, we expect that the indented code block afterward will not be executed."
   ]
  },
  {
   "cell_type": "code",
   "execution_count": null,
   "metadata": {
    "collapsed": false
   },
   "outputs": [],
   "source": [
    "if True:\n",
    "    print(1357)"
   ]
  },
  {
   "cell_type": "code",
   "execution_count": null,
   "metadata": {
    "collapsed": true
   },
   "outputs": [],
   "source": [
    "if False:\n",
    "    print(2435)"
   ]
  },
  {
   "cell_type": "markdown",
   "metadata": {},
   "source": [
    "In the case where we wrote `if True:`, the indented code afterward was executed automatically, but when we wrote `if False`, the code was not executed.  Here's another less trivial example for which the statement after the `if` evaluates to False, and therefore the indented code block starting on the next line does not execute."
   ]
  },
  {
   "cell_type": "code",
   "execution_count": null,
   "metadata": {
    "collapsed": true
   },
   "outputs": [],
   "source": [
    "x = 3\n",
    "y = 2\n",
    "\n",
    "if x < 0:\n",
    "    print(y)"
   ]
  },
  {
   "cell_type": "markdown",
   "metadata": {},
   "source": [
    "This is a good opportunity to highlight an important aspect of python: in order for certain blocks of code to be executed properly, one needs to include the correct punctuation and to appropriately indent those blocks.  In the example above, in order for the print statement to be executed provided `x` is negative, the print statement needs to be indented by four spaces.  Additionally, the `if` statement and condition that comes after it must end with a colon.  If either the colon is not included, or the indendation is not appropriate, then the code won't run as desired.  To make sure that these syntactical aspects are correct, the jupyter notebook automatically indents the right amount when the colon is included, and it does not indent when it is not included.\n",
    "\n",
    "The `if` command can be augmented by an `else` command that tells the interpreter what to do in the case that the statement right after `if` evaluates to `False`.  The default is that the interpreter simply ignores the indented code block after the colon, but in some cases you want to specifically instruct the program what to do.  Suppose, for example, that you want the interpreter to take the absolute value of an `int` or `float`.  Mathematically, the absolute value is defined as $|x| = x$ *if* $x\\geq 0$ and $-x$ *otherwise*.  Notice that even this mathematical definition proceeds by cases controlled by \"if\" and \"otherwise\" which in a python program would be written with an `if` and `else` command as\n",
    "\n",
    "```\n",
    "    if x >= 0:\n",
    "        print(x)\n",
    "    else:\n",
    "        print(-x)\n",
    "```\n",
    "\n",
    "Let's try this out on an example and see if it works as desired:"
   ]
  },
  {
   "cell_type": "code",
   "execution_count": null,
   "metadata": {
    "collapsed": false
   },
   "outputs": [],
   "source": [
    "x = -13\n",
    "\n",
    "if x >= 0:\n",
    "    print(x)\n",
    "else:\n",
    "    print(-x)"
   ]
  },
  {
   "cell_type": "markdown",
   "metadata": {},
   "source": [
    "Notice that the `else` command worked in a similar way to the `if` command; it must be followed by a colon, and the code to be executed on the next line after the `else` should be indented by four spaces.  However, there is no separate statement after the `else` but befre the colon that needs to evaluate to either `True` or `False` because the indented code block following `else` is executed precisely when the statement after the preceding `if` evaluates to `False`.\n",
    "\n",
    "What if you want to write a piece of code that branches in a more complicated way than just according to whether a single statement is true or false.  For example, suppose you want to implement the \"signum\" (aka sign) function which is defined as follows: if $x > 0$, then $\\mathrm{sgn}(x) = +1$, otherwise if $x = 0$ then $\\mathrm{sgn}(x) = 0$, and otherwise $\\mathrm{sgn}(x) = -1$.  This sentence defining the signum function is quite easy to translate into python code as follows:\n",
    "\n",
    "```\n",
    "    if x > 0:\n",
    "        print(1)\n",
    "    elif x == 0:\n",
    "        print(0)\n",
    "    else:\n",
    "        print(-1)\n",
    "```\n",
    "\n",
    "As an example:"
   ]
  },
  {
   "cell_type": "code",
   "execution_count": null,
   "metadata": {
    "collapsed": false
   },
   "outputs": [],
   "source": [
    "x = 0\n",
    " \n",
    "if x > 0:\n",
    "    print(1)\n",
    "elif x == 0:\n",
    "    print(0)\n",
    "else:\n",
    "    print(-1)"
   ]
  },
  {
   "cell_type": "markdown",
   "metadata": {},
   "source": [
    "## Control flow using `for` and `while` loops"
   ]
  },
  {
   "cell_type": "markdown",
   "metadata": {},
   "source": [
    "Essentially every nontrivial, useful algorithm that one wishes to implement on a computer takes advantage of the fact that a computer can execute instructions in succession very quickly, and therefore a computer is an ideal device for performing repetitive tasks.  For example, if you wanted to manually compute the sum of all numbers from 1 to 1000 by brute force addition, starting from 1 and adding 2 then adding 3 etc., this would take quite a while.  But for a computer, especially a modern computer, this is a piece of cake.  In order to do this sort of thing, it's often appropriate to use a \"loop\".  In python, there are two main kinds of loops that one might generally find useful: `for` loops, which tell python to repeat a certain code block according to a pre-specified list of steps, and `while` loops which tell puthon to repeat a code block as long as a certain condition evaluates to true.\n",
    "\n",
    "As an example of a simple `for` loop, let's tell the interpreter to add all of the numbers from 1 to 4:"
   ]
  },
  {
   "cell_type": "code",
   "execution_count": 36,
   "metadata": {
    "collapsed": false
   },
   "outputs": [
    {
     "name": "stdout",
     "output_type": "stream",
     "text": [
      "10\n"
     ]
    }
   ],
   "source": [
    "total = 0\n",
    "\n",
    "for n in range(5):\n",
    "    total += n\n",
    "\n",
    "print(total)"
   ]
  },
  {
   "cell_type": "markdown",
   "metadata": {},
   "source": [
    "Here's what happened in that cell:\n",
    "\n",
    "1. The variable `total` was assigned the integer value 0.\n",
    "2. The `for n in range(5)` statement tells the interpreter \"consider the numbers 0, 1, ..., 5 - 1, and exectute the instructions on the code block starting on the next line for each number in that sequence\"\n",
    "3. The code block that starts indented on the next line tells the interpreter to increase the value of the variable `total` by the amount `n` in each iteration of the loop.\n",
    "4. The print statement at the end is not indented, so it's not included in the loop code block.  Because of this, it is executed after the loop is finished.  Since the value of total has increased by `n` on each iteration of the loop, it's value after the loop is finished is 0 + 0 + 1 + 2 + 3 + 4 = 10, so that's the number that's printed.\n",
    "\n",
    "We can see how the loop is operating a bit more clearly if we insert some print statements in the loop code block.  Execute the code in the cell below, but before you do so, try to think to yourself what you'll see in the output when the cell is run."
   ]
  },
  {
   "cell_type": "code",
   "execution_count": null,
   "metadata": {
    "collapsed": false
   },
   "outputs": [],
   "source": [
    "total = 0\n",
    "\n",
    "for n in range(5):\n",
    "    print(\"The current value of n is\", n)\n",
    "    total += n\n",
    "    print(\"The modified value of total is\", total)\n",
    "\n",
    "print(total)"
   ]
  },
  {
   "cell_type": "markdown",
   "metadata": {},
   "source": [
    "The same thing can be done with a `while` loop as follows:"
   ]
  },
  {
   "cell_type": "code",
   "execution_count": null,
   "metadata": {
    "collapsed": false
   },
   "outputs": [],
   "source": [
    "current_number = 1\n",
    "total = 0\n",
    "\n",
    "while current_number < 5:\n",
    "    total += current_number\n",
    "    current_number += 1\n",
    "print(total)"
   ]
  },
  {
   "cell_type": "markdown",
   "metadata": {},
   "source": [
    "We could also written have this code as follows"
   ]
  },
  {
   "cell_type": "code",
   "execution_count": null,
   "metadata": {
    "collapsed": false
   },
   "outputs": [],
   "source": [
    "current_number = 1\n",
    "total = 0\n",
    "\n",
    "while current_number <= 4:\n",
    "    total += current_number\n",
    "    current_number += 1\n",
    "print(total)"
   ]
  },
  {
   "cell_type": "markdown",
   "metadata": {},
   "source": [
    "Can you see what changed and explain why it also gave the same answer?\n",
    "\n",
    "We said before that it should be a piece of cake for the computer to add the numbers from 1 to 1000, let's put our money where our mouth is and try it out:"
   ]
  },
  {
   "cell_type": "code",
   "execution_count": null,
   "metadata": {
    "collapsed": false
   },
   "outputs": [],
   "source": [
    "current_number = 1\n",
    "total = 0\n",
    "\n",
    "while current_number <= 1000:\n",
    "    total += current_number\n",
    "    current_number += 1\n",
    "print(total)"
   ]
  },
  {
   "cell_type": "markdown",
   "metadata": {},
   "source": [
    "Wow that was fast!  Let's go up an order of magnitude and sum all numbers from 1 to 10000 and see how fast that finishes"
   ]
  },
  {
   "cell_type": "code",
   "execution_count": null,
   "metadata": {
    "collapsed": false
   },
   "outputs": [],
   "source": [
    "current_number = 1\n",
    "total = 0\n",
    "\n",
    "while current_number <= 10000:\n",
    "    total += current_number\n",
    "    current_number += 1\n",
    "print(total)"
   ]
  },
  {
   "cell_type": "markdown",
   "metadata": {},
   "source": [
    "Still extremely fast!  Ok, let's go up another three orders of magnitude"
   ]
  },
  {
   "cell_type": "code",
   "execution_count": null,
   "metadata": {
    "collapsed": false
   },
   "outputs": [],
   "source": [
    "current_number = 1\n",
    "total = 0\n",
    "\n",
    "while current_number <= 10000000:\n",
    "    total += current_number\n",
    "    current_number += 1\n",
    "print(total)"
   ]
  },
  {
   "cell_type": "markdown",
   "metadata": {},
   "source": [
    "All right well now the computer had to think a bit.  Let's go one higher just to make the computer try a bit harder"
   ]
  },
  {
   "cell_type": "code",
   "execution_count": null,
   "metadata": {
    "collapsed": false
   },
   "outputs": [],
   "source": [
    "current_number = 1\n",
    "total = 0\n",
    "\n",
    "while current_number <= 100000000:\n",
    "    total += current_number\n",
    "    current_number += 1\n",
    "print(total)"
   ]
  },
  {
   "cell_type": "markdown",
   "metadata": {},
   "source": [
    "On my machine (I'm actually using sagemathcloud so the code is running on whatever processor they've assigned to me), that took about 20 seconds.  Later, we'll discuss in much more detail how you can evaluate the complexity of your algorithm (both theoretically and experimentally) and how you can time its speed."
   ]
  },
  {
   "cell_type": "markdown",
   "metadata": {},
   "source": [
    "### Exercise\n",
    "\n",
    "The following is a well-known mathematical identity:\n",
    "\n",
    "$$\n",
    "  \\sum_{k=1}^n k = \\frac{n(n + 1)}{2}\n",
    "$$\n",
    "\n",
    "Write code that checks this identity for a user-specified value of $n$.  In the end, the code should print out the following sentence:\n",
    "    \n",
    "```\n",
    "    The identity is true for n = <user-specified number>\n",
    "```"
   ]
  },
  {
   "cell_type": "code",
   "execution_count": 59,
   "metadata": {
    "collapsed": false
   },
   "outputs": [
    {
     "name": "stdout",
     "output_type": "stream",
     "text": [
      "The identity is True for n = 5\n"
     ]
    }
   ],
   "source": [
    "n = 5 #user input here\n",
    "k = 1\n",
    "for i in range(n-1):\n",
    "    k += (i + 2)\n",
    "x = (n*(n+1))//2\n",
    "\n",
    "print(\"The identity is\",k==x,\"for n =\",n)"
   ]
  },
  {
   "cell_type": "markdown",
   "metadata": {},
   "source": [
    "# Lists - a type of data container\n",
    "\n",
    "We are now familiar with data types like int, float, complex, and bool, but it's often useful to have access to objects that can store potentially large numbers of other objects.  In python, such things are called **containers**, and there are a number of types containers one can access.  We will focus exclusively on the **list** container for the time being because we're not really going to need the more sophisticated container types Python has, but to pique your interst, I'll just mention some other potentially useful container types: **tuple**, **dictionary**, and **set**.  You are encouraged to look into these if you're curious to know what they are!\n",
    "\n",
    "A list is basically exactly what you might think; it's a container that holds an *ordered* sequence of objects.  Let's say, for example, that we want to define a variable `my_list` that holds a list of the integers 1 to 7 inclusive in increasing order, then we would write"
   ]
  },
  {
   "cell_type": "code",
   "execution_count": null,
   "metadata": {
    "collapsed": true
   },
   "outputs": [],
   "source": [
    "my_list = [1, 2, 3, 4, 5, 6, 7]"
   ]
  },
  {
   "cell_type": "markdown",
   "metadata": {},
   "source": [
    "Note that to specify a list, one must enclose the elements of the list in the desired order separated by commas, and one must enclose these elements with square brackets.  You may not use other bracket types (e.g. round, curly) -- those would give you a different type of container.  Let's see what happens when we check the type of `my_list`"
   ]
  },
  {
   "cell_type": "code",
   "execution_count": null,
   "metadata": {
    "collapsed": false
   },
   "outputs": [],
   "source": [
    "type(my_list)"
   ]
  },
  {
   "cell_type": "markdown",
   "metadata": {},
   "source": [
    "Let's say that we want to call a single element of a list, then we would call list with a number in square brackets after its name indicating the index of the desired list item.  It's crucial to note that in Python, *list indices start at 0 not 1*:"
   ]
  },
  {
   "cell_type": "code",
   "execution_count": null,
   "metadata": {
    "collapsed": false
   },
   "outputs": [],
   "source": [
    "print(my_list[0])\n",
    "print(my_list[1])\n",
    "print(my_list[6])"
   ]
  },
  {
   "cell_type": "markdown",
   "metadata": {},
   "source": [
    "Be careful about the fact that indexing in Python starts at 0 -- it can be frustrating at first because on pencil and paper, we usually start with 1, but you should quickly get used to it with some practice.\n",
    "\n",
    "It possible to create an empty list as follows:"
   ]
  },
  {
   "cell_type": "code",
   "execution_count": null,
   "metadata": {
    "collapsed": true
   },
   "outputs": [],
   "source": [
    "empty_list = []"
   ]
  },
  {
   "cell_type": "markdown",
   "metadata": {},
   "source": [
    "One can then populate the list with elements in a number of different ways.  Perhaps the most straightforward is the `append` \"method\" (the term \"method\" is a technical term for a certain kind of function.  We'll come to this very soon.)"
   ]
  },
  {
   "cell_type": "code",
   "execution_count": null,
   "metadata": {
    "collapsed": false
   },
   "outputs": [],
   "source": [
    "empty_list.append(12)\n",
    "\n",
    "print(empty_list)"
   ]
  },
  {
   "cell_type": "markdown",
   "metadata": {},
   "source": [
    "### Exercise \n",
    "\n",
    "In a new cell below, write a bit of code that creates an empty list called `my_evens`, populates the list with the first 100 even numbers, and then prints it out."
   ]
  },
  {
   "cell_type": "code",
   "execution_count": 72,
   "metadata": {
    "collapsed": false
   },
   "outputs": [
    {
     "name": "stdout",
     "output_type": "stream",
     "text": [
      "[2, 4, 6, 8, 10, 12, 14, 16, 18, 20, 22, 24, 26, 28, 30, 32, 34, 36, 38, 40, 42, 44, 46, 48, 50, 52, 54, 56, 58, 60, 62, 64, 66, 68, 70, 72, 74, 76, 78, 80, 82, 84, 86, 88, 90, 92, 94, 96, 98, 100, 102, 104, 106, 108, 110, 112, 114, 116, 118, 120, 122, 124, 126, 128, 130, 132, 134, 136, 138, 140, 142, 144, 146, 148, 150, 152, 154, 156, 158, 160, 162, 164, 166, 168, 170, 172, 174, 176, 178, 180, 182, 184, 186, 188, 190, 192, 194, 196, 198, 200]\n"
     ]
    }
   ],
   "source": [
    "my_evens = []\n",
    "i = 0\n",
    "counter = 0\n",
    "while counter < 100:\n",
    "    i += 1\n",
    "    if ((i % 2)-1):\n",
    "        my_evens.append(i)\n",
    "        counter += 1\n",
    "print(my_evens)"
   ]
  },
  {
   "cell_type": "markdown",
   "metadata": {},
   "source": [
    "## Slicing lists like a ninja\n",
    "\n",
    "We've already seen that one can extract a single element of a list by typing the name of the list and then the index of the element in square brackets, but what if you wanted to extra extract a whole sublist of the list in question?  You could certainly do this using a loop, but you could also use Python's built-in list slicing notation.  Consider the following list:"
   ]
  },
  {
   "cell_type": "code",
   "execution_count": null,
   "metadata": {
    "collapsed": true
   },
   "outputs": [],
   "source": [
    "animals = [ \"dog\", \"cat\", \"lion\", \"tiger\", \"gorilla\", \"shrimp\", \"seahorse\", \"squid\" ]"
   ]
  },
  {
   "cell_type": "markdown",
   "metadata": {},
   "source": [
    "Notice that the first five elements of the list are land animals, and the last three elements of the list are sea animals.  Suppose that we wanted to extract the the land animals and put them in their own list and then extract only the sea animals and put them in their own list as well.  List slicing would make this very easy:"
   ]
  },
  {
   "cell_type": "code",
   "execution_count": null,
   "metadata": {
    "collapsed": false
   },
   "outputs": [],
   "source": [
    "land_animals = animals[0:5]\n",
    "sea_animals = animals[5:8]\n",
    "\n",
    "print(land_animals)\n",
    "print(sea_animals)"
   ]
  },
  {
   "cell_type": "markdown",
   "metadata": {},
   "source": [
    "As you can probably tell, the generic notation for slicing a list is:\n",
    "\n",
    "```\n",
    "    list_name[start:end + 1]\n",
    "```\n",
    "\n",
    "In other words, you type the index of the start of the slice, followed by a colon, followed by the index of the end of the slice plus 1.  You have to add 1 because Python only includes the second index minus 1 when it creates the desired slice.  We can also specify a step size for the slice so that you can pick only ever other element of a list or ever other other element and so on:"
   ]
  },
  {
   "cell_type": "code",
   "execution_count": null,
   "metadata": {
    "collapsed": false
   },
   "outputs": [],
   "source": [
    "every_other_animal = animals[0:8:2]\n",
    "\n",
    "print(every_other_animal)"
   ]
  },
  {
   "cell_type": "markdown",
   "metadata": {},
   "source": [
    "### Exercise \n",
    "\n",
    "Write code that creates a list called `first_88` containing all integers from 1 to 88 inclusive in ascending order.  Then, use list slicing to extract two sublists called `multiples_of_3` and `multiples_of_11` containing only the multiples of three and multiples of 11 from `first_88`.  Print out these two sublists to visually check that your code did the right thing."
   ]
  },
  {
   "cell_type": "code",
   "execution_count": 84,
   "metadata": {
    "collapsed": false
   },
   "outputs": [
    {
     "name": "stdout",
     "output_type": "stream",
     "text": [
      "[1, 2, 3, 4, 5, 6, 7, 8, 9, 10, 11, 12, 13, 14, 15, 16, 17, 18, 19, 20, 21, 22, 23, 24, 25, 26, 27, 28, 29, 30, 31, 32, 33, 34, 35, 36, 37, 38, 39, 40, 41, 42, 43, 44, 45, 46, 47, 48, 49, 50, 51, 52, 53, 54, 55, 56, 57, 58, 59, 60, 61, 62, 63, 64, 65, 66, 67, 68, 69, 70, 71, 72, 73, 74, 75, 76, 77, 78, 79, 80, 81, 82, 83, 84, 85, 86, 87, 88]\n",
      "[3, 6, 9, 12, 15, 18, 21, 24, 27, 30, 33, 36, 39, 42, 45, 48, 51, 54, 57, 60, 63, 66, 69, 72, 75, 78, 81, 84, 87]\n",
      "[11, 22, 33, 44, 55, 66, 77, 88]\n"
     ]
    }
   ],
   "source": [
    "first_88 = []\n",
    "for i in range(88):\n",
    "    first_88.append(i+1)\n",
    "multiples_of_3 = first_88[2:88:3]\n",
    "multiples_of_11 = first_88[10:88:11]\n",
    "print(first_88)\n",
    "print(multiples_of_3)\n",
    "print(multiples_of_11)"
   ]
  },
  {
   "cell_type": "markdown",
   "metadata": {},
   "source": [
    "# Functions\n",
    "\n",
    "When we want to re-use a certain piece of code, a convenient way to do so is to define a function.\n",
    "\n",
    "## Built-in functions\n",
    "\n",
    "Python comes with a number of useful built-in functions.  An exhaustive list of these is here: https://docs.python.org/3/library/functions.html .  We've already been using the `print`, `type`, and `range` functions.  I'll let you explore the Python documentation on your own for details of the rest of the built-in functions, but a couple that I often find useful are\n",
    "\n",
    "- `len`: Input is a list, and output is the length of a list\n",
    "- `max`: Input is a list, and output is the largest element of the list\n",
    "- `min`: Input is a list, and output is the smallest element of the list\n",
    "- `sum`: Input is a list, and output is the sum of the elements of the list\n",
    "- `map`: Applies a specified function to every element of a list\n",
    "- `int`: Converts its argument into an `int`\n",
    "- `float`: Converts its argument into a `float`\n",
    "- `complex`: Converts its argument into a `complex`"
   ]
  },
  {
   "cell_type": "markdown",
   "metadata": {},
   "source": [
    "## User-defined functions\n",
    "\n",
    "In the course of creating a complicated program, it's often extremely useful to make your program modular by defining a dedicated function to perform a particular operation that you need to perform often.  In Python, defining a function is extremely easy and intuitive.  Let's say, for example, that we want to define a function `my_square` that multiplies an `int`, `float`, or `complex` by itself, then we would write"
   ]
  },
  {
   "cell_type": "code",
   "execution_count": null,
   "metadata": {
    "collapsed": true
   },
   "outputs": [],
   "source": [
    "def my_square(x):\n",
    "    return x * x"
   ]
  },
  {
   "cell_type": "markdown",
   "metadata": {},
   "source": [
    "Let's try out this function"
   ]
  },
  {
   "cell_type": "code",
   "execution_count": null,
   "metadata": {
    "collapsed": false
   },
   "outputs": [],
   "source": [
    "my_square(11)"
   ]
  },
  {
   "cell_type": "markdown",
   "metadata": {},
   "source": [
    "As you can see from this example, a function definiton starts with the code `def` which tells the interpreter that the user intends to define a function.  The word `def` is then followed by a single space and then the name of the function.  Adjoined to the name of the function are a set of parenthesis that enclose the labels one wishes to use for the argument(s) of the function, and a colon follows.  After the colon, one needs to go to the next line, and indent four spaces to tell the interpreter what's in the body of the function.  The body of the function can contain any code you wish, and if you want the function to output a certain value, then that output is specified by the statement `return` followed by whatever you want the output to be.  Note that a function does not need to return anything, so one can leave the return statement blank.\n",
    "\n",
    "One nice thing about the jupyter notebook is that once you have defined a function, the notebook will recognize the function from that point on in its tab completion library, so you can only partially write our the name of the function, and the notebook will complete the name for you, or give you a list of possible completions.\n",
    "\n",
    "Here's another example of a function that takes a pair of lists with three elements as inputs, and outputs the \"dot product\" of the two lists (if we think of the lists as vectors in $3$-dimensions:"
   ]
  },
  {
   "cell_type": "code",
   "execution_count": null,
   "metadata": {
    "collapsed": true
   },
   "outputs": [],
   "source": [
    "def my_dot(list_A, list_B):\n",
    "    dot_product = 0\n",
    "    for n in range(3):\n",
    "        dot_product += list_A[n] * list_B[n]\n",
    "    return dot_product"
   ]
  },
  {
   "cell_type": "markdown",
   "metadata": {},
   "source": [
    "Let's try out this code on some examples for which we know the answer:"
   ]
  },
  {
   "cell_type": "code",
   "execution_count": null,
   "metadata": {
    "collapsed": false
   },
   "outputs": [],
   "source": [
    "x_hat = [ 1, 0, 0 ]\n",
    "y_hat = [ 0, 1, 0 ]\n",
    "z_hat = [ 0, 0, 1 ]\n",
    "\n",
    "v = [ 1, 1, 0 ]\n",
    "w = [ -1, 1, 0 ]\n",
    "\n",
    "print(my_dot(x_hat, x_hat))\n",
    "print(my_dot(x_hat, y_hat))\n",
    "print(my_dot(x_hat, z_hat))\n",
    "print(my_dot(v, v))\n",
    "print(my_dot(v, w))"
   ]
  },
  {
   "cell_type": "markdown",
   "metadata": {},
   "source": [
    "### Exercise  \n",
    "\n",
    "In a new code cell below, write your own generalized version of the `my_dot` function above that takes the dot product of lists of arbitrary length."
   ]
  },
  {
   "cell_type": "code",
   "execution_count": 92,
   "metadata": {
    "collapsed": false
   },
   "outputs": [
    {
     "name": "stdout",
     "output_type": "stream",
     "text": [
      "I don't like you. Please pick better lists with same lengths.\n"
     ]
    }
   ],
   "source": [
    "def my_dot(listA, listB):\n",
    "    dot = 0\n",
    "    if (len(listA) != len(listB)):\n",
    "        print(\"I don't like you. Please pick better lists with same lengths.\")\n",
    "        return\n",
    "    n = len(listA)\n",
    "    for i in range(n):\n",
    "        dot += listA[i]*listB[i]\n",
    "    return dot\n",
    "\n",
    "blah = [ 1, 1, 1 ]\n",
    "blahblah = [ 1, 1, 1 ]\n",
    "blahblahblah = [ 1, 1, 1, 1 ]\n",
    "my_dot(blahblah,blahblahblah)"
   ]
  },
  {
   "cell_type": "markdown",
   "metadata": {},
   "source": [
    "### Exercise \n",
    "\n",
    "Although it's not optimally efficient, one can use lists of lists as an implementation of matrices in Python.  For example, the following lists of lists could represent the 2-by-2 identity matrix:\n",
    "\n",
    "```\n",
    "    [ [ 1, 0 ], [ 0, 1 ] ]\n",
    "```\n",
    "\n",
    "and the following list could represent the 3-by-3 identity matrix:\n",
    "\n",
    "```\n",
    "    [ [ 1, 0, 0 ], [ 0, 1, 0 ], [ 0, 0, 1 ] ]\n",
    "```\n",
    "\n",
    "In a new code cell below, write a function `my_matrix_mult` that takes as inputs two matrices (lists of lists) of size $n$-by-$m$ and $m$-by-$p$, and outputs a single matrix (list of lists) of size $n$-by-$p$.  Where $n$, $m$, and $p$ are arbitrary, nonzero integers.  Then, check to make sure that your matrix multiplication is functioning properly by printing out its effect on some examples."
   ]
  },
  {
   "cell_type": "code",
   "execution_count": 1,
   "metadata": {
    "collapsed": false,
    "scrolled": true
   },
   "outputs": [
    {
     "name": "stdout",
     "output_type": "stream",
     "text": [
      "[0, 0, 0, 0, 0, 0, 0, 0, 0, 0]\n",
      "[[ 2  4  6  8 10]\n",
      " [ 1  2  3  4  5]\n",
      " [ 3  6  9 12 15]]\n",
      "[[2, 4, 6, 8, 10], [1, 2, 3, 4, 5], [3, 6, 9, 12, 15]]\n",
      "[[ True  True  True  True  True]\n",
      " [ True  True  True  True  True]\n",
      " [ True  True  True  True  True]]\n"
     ]
    }
   ],
   "source": [
    "A = [[2,0,0],[1,0,0],[3,0,0]]\n",
    "B = [[ 1, 2, 3, 4, 5 ], [ 6, 7, 8, 9 , 8 ], [ 7, 6, 5, 4, 3 ]]\n",
    "\n",
    "def my_matrix_mult(A, B):\n",
    "    rowsA = len(A)\n",
    "    colsA = len(A[0])\n",
    "    rowsB = len(B)\n",
    "    colsB = len(B[0])\n",
    "    \n",
    "    if (colsA != rowsB):\n",
    "        print(\"I don't like you. Please pick better matrices.\")\n",
    "        return\n",
    "\n",
    "    prod = [[0 for row in range(colsB)] for col in range(rowsA)]\n",
    "\n",
    "    for i in range(rowsA):\n",
    "        for j in range(colsB):\n",
    "            for k in range(colsA):\n",
    "                prod[i][j] += A[i][k] * B[k][j]\n",
    "    return prod\n",
    "\n",
    "#check solution\n",
    "import numpy\n",
    "C = (numpy.matrix(A))*(numpy.matrix(B))\n",
    "Cprime = my_matrix_mult(A, B)\n",
    "print(C)\n",
    "print(Cprime)\n",
    "print(C==Cprime)"
   ]
  },
  {
   "cell_type": "markdown",
   "metadata": {},
   "source": [
    "## Methods\n",
    "\n",
    "In python there are certain functions, called a methods, that are meant to be applied to certain kinds of objects as attributes of those objects.  For example, there is a method for lists called `append` that we encountered above that lengthens a list by adding a user-specified object to the end of the list:"
   ]
  },
  {
   "cell_type": "code",
   "execution_count": null,
   "metadata": {
    "collapsed": false
   },
   "outputs": [],
   "source": [
    "my_list = [ 13, 17, 19, \"hello\" ]\n",
    "\n",
    "my_list.append(\"this is a new list element\")\n",
    "\n",
    "print(my_list)"
   ]
  },
  {
   "cell_type": "markdown",
   "metadata": {},
   "source": [
    "Notice that the `append` function is applied to `my_list` using the \"dot notation\" in which the object that we want to apply the method to is followed by a period, the name of the method, and then any extra arguments the method might have.  In general, this is precisely the syntactical structure of applying a method to a certain object\n",
    "\n",
    "```\n",
    "    object.method(possibly extra method arguments)\n",
    "```\n",
    "\n",
    "This method notation is used in object-oriented programming in Python, but we won't have a need to do any hardcore OOP in this course."
   ]
  },
  {
   "cell_type": "code",
   "execution_count": 3,
   "metadata": {
    "collapsed": false
   },
   "outputs": [
    {
     "data": {
      "text/plain": [
       "Available line magics:\n",
       "%alias  %alias_magic  %autocall  %automagic  %autosave  %bookmark  %cat  %cd  %clear  %colors  %config  %connect_info  %cp  %debug  %dhist  %dirs  %doctest_mode  %ed  %edit  %env  %gui  %hist  %history  %install_default_config  %install_ext  %install_profiles  %killbgscripts  %ldir  %less  %lf  %lk  %ll  %load  %load_ext  %loadpy  %logoff  %logon  %logstart  %logstate  %logstop  %ls  %lsmagic  %lx  %macro  %magic  %man  %matplotlib  %mkdir  %more  %mv  %notebook  %page  %pastebin  %pdb  %pdef  %pdoc  %pfile  %pinfo  %pinfo2  %popd  %pprint  %precision  %profile  %prun  %psearch  %psource  %pushd  %pwd  %pycat  %pylab  %qtconsole  %quickref  %recall  %rehashx  %reload_ext  %rep  %rerun  %reset  %reset_selective  %rm  %rmdir  %run  %save  %sc  %set_env  %store  %sx  %system  %tb  %time  %timeit  %unalias  %unload_ext  %who  %who_ls  %whos  %xdel  %xmode\n",
       "\n",
       "Available cell magics:\n",
       "%%!  %%HTML  %%SVG  %%bash  %%capture  %%debug  %%file  %%html  %%javascript  %%latex  %%perl  %%prun  %%pypy  %%python  %%python2  %%python3  %%ruby  %%script  %%sh  %%svg  %%sx  %%system  %%time  %%timeit  %%writefile\n",
       "\n",
       "Automagic is ON, % prefix IS NOT needed for line magics."
      ]
     },
     "execution_count": 3,
     "metadata": {},
     "output_type": "execute_result"
    }
   ],
   "source": [
    "%"
   ]
  },
  {
   "cell_type": "code",
   "execution_count": null,
   "metadata": {
    "collapsed": true
   },
   "outputs": [],
   "source": [
    ""
   ]
  }
 ],
 "metadata": {
  "kernelspec": {
   "display_name": "Python 3",
   "language": "python",
   "name": "python3"
  },
  "language_info": {
   "codemirror_mode": {
    "name": "ipython",
    "version": 3.0
   },
   "file_extension": ".py",
   "mimetype": "text/x-python",
   "name": "python",
   "nbconvert_exporter": "python",
   "pygments_lexer": "ipython3",
   "version": "3.4.3+"
  },
  "name": "rocket-python.ipynb"
 },
 "nbformat": 4,
 "nbformat_minor": 0
}